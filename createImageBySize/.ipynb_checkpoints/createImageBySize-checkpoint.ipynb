{
 "cells": [
  {
   "cell_type": "code",
   "execution_count": 35,
   "metadata": {},
   "outputs": [],
   "source": [
    "import threading\n",
    "import sys\n",
    "\n",
    "from PIL import Image, ImageDraw, ImageFont\n",
    "\n",
    "image_size = 300\n",
    "\n",
    "def start():\n",
    "    t = threading.Thread(target=create_image,args=(image_size,))\n",
    "    t.start()\n",
    "\n",
    "def create_image(size):\n",
    "    pri_image = Image.open(\"./ori-pic.jpg\")\n",
    "    pri_image.resize((size,size)).save('./dist/create-%d.jpg' % size)\n",
    "    \n",
    "    font = ImageFont.truetype('./SourceHanSansCN-Medium.otf', 50)\n",
    "    drawImage = ImageDraw.Draw(pri_image)\n",
    "    drawImage.text((10,10),\"hello,一二三四五六七八九十\",font=font)\n",
    "    pri_image.save('./dist/add-font.jpg')\n",
    "    \n",
    "if __name__ == \"__main__\":\n",
    "    start()"
   ]
  },
  {
   "cell_type": "code",
   "execution_count": null,
   "metadata": {},
   "outputs": [],
   "source": []
  },
  {
   "cell_type": "code",
   "execution_count": null,
   "metadata": {},
   "outputs": [],
   "source": []
  },
  {
   "cell_type": "code",
   "execution_count": null,
   "metadata": {},
   "outputs": [],
   "source": []
  }
 ],
 "metadata": {
  "kernelspec": {
   "display_name": "Python 3",
   "language": "python",
   "name": "python3"
  },
  "language_info": {
   "codemirror_mode": {
    "name": "ipython",
    "version": 3
   },
   "file_extension": ".py",
   "mimetype": "text/x-python",
   "name": "python",
   "nbconvert_exporter": "python",
   "pygments_lexer": "ipython3",
   "version": "3.7.0"
  }
 },
 "nbformat": 4,
 "nbformat_minor": 2
}
